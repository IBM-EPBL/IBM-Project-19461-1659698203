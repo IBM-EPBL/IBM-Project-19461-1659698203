{
  "nbformat": 4,
  "nbformat_minor": 0,
  "metadata": {
    "colab": {
      "provenance": []
    },
    "kernelspec": {
      "name": "python3",
      "display_name": "Python 3"
    },
    "language_info": {
      "name": "python"
    }
  },
  "cells": [
    {
      "cell_type": "markdown",
      "source": [
        "# **1. Split this string**"
      ],
      "metadata": {
        "id": "jYV6EkWz66eB"
      }
    },
    {
      "cell_type": "code",
      "source": [
        "str=\"Hi how are you\"\n",
        "print(str.split())"
      ],
      "metadata": {
        "colab": {
          "base_uri": "https://localhost:8080/"
        },
        "id": "DPOEo9Jo7KJ2",
        "outputId": "bf67fe62-0105-40ff-e284-fc0b43ff4e20"
      },
      "execution_count": 1,
      "outputs": [
        {
          "output_type": "stream",
          "name": "stdout",
          "text": [
            "['Hi', 'how', 'are', 'you']\n"
          ]
        }
      ]
    },
    {
      "cell_type": "markdown",
      "source": [
        "# **2. Use .format() to print the following string** **bold text**"
      ],
      "metadata": {
        "id": "Vmfv1cIP7lRH"
      }
    },
    {
      "cell_type": "code",
      "source": [
        "planet = \"Earth\"\n",
        "diameter = 12742\n",
        "a=\"The diameter of {planet}is{diameter}kilometers\"\n",
        "print(a.format(planet=\"Earth\",diameter = 12742))"
      ],
      "metadata": {
        "colab": {
          "base_uri": "https://localhost:8080/"
        },
        "id": "yIlHDTdD7q9U",
        "outputId": "821b27cd-452d-4e5c-f613-3c236425011f"
      },
      "execution_count": 2,
      "outputs": [
        {
          "output_type": "stream",
          "name": "stdout",
          "text": [
            "The diameter of Earthis12742kilometers\n"
          ]
        }
      ]
    },
    {
      "cell_type": "markdown",
      "source": [
        "# **3. In this nest dictionary grab the word \"hello\"**\n"
      ],
      "metadata": {
        "id": "A4P2_bn075Q1"
      }
    },
    {
      "cell_type": "code",
      "source": [
        "d = {'k1':[1,2,3,{'tricky':['oh','man','inception',{'target':\n",
        "[1,2,3,'hello']}]}]}\n",
        "print(d)"
      ],
      "metadata": {
        "colab": {
          "base_uri": "https://localhost:8080/"
        },
        "id": "-yrX8gJj7-fR",
        "outputId": "d6515aef-77b6-4ba8-9715-5cdc3d0a5640"
      },
      "execution_count": 3,
      "outputs": [
        {
          "output_type": "stream",
          "name": "stdout",
          "text": [
            "{'k1': [1, 2, 3, {'tricky': ['oh', 'man', 'inception', {'target': [1, 2, 3, 'hello']}]}]}\n"
          ]
        }
      ]
    },
    {
      "cell_type": "markdown",
      "source": [
        "# **Numpy**"
      ],
      "metadata": {
        "id": "QIdRPXkk8DOX"
      }
    },
    {
      "cell_type": "markdown",
      "source": [
        "# **4.1 Create an array of 10 zeros?**"
      ],
      "metadata": {
        "id": "VwDJBzpZ8ZT7"
      }
    },
    {
      "cell_type": "code",
      "source": [
        "import numpy as np\n",
        "b=np.zeros(10)*0\n",
        "print(b)"
      ],
      "metadata": {
        "colab": {
          "base_uri": "https://localhost:8080/"
        },
        "id": "jxwkptta8Owl",
        "outputId": "eb92ec87-efdb-473c-81b4-d0d7139e6ac7"
      },
      "execution_count": 4,
      "outputs": [
        {
          "output_type": "stream",
          "name": "stdout",
          "text": [
            "[0. 0. 0. 0. 0. 0. 0. 0. 0. 0.]\n"
          ]
        }
      ]
    },
    {
      "cell_type": "markdown",
      "source": [
        "# **4.2 Create an array of 10 fives?**"
      ],
      "metadata": {
        "id": "wb7b1DrQ8cl7"
      }
    },
    {
      "cell_type": "code",
      "source": [
        "b=np.ones(10)*5\n",
        "print(b)"
      ],
      "metadata": {
        "colab": {
          "base_uri": "https://localhost:8080/"
        },
        "id": "tll8NpKG8iFW",
        "outputId": "7e7d8140-1bb9-4105-f169-0077773444e6"
      },
      "execution_count": 5,
      "outputs": [
        {
          "output_type": "stream",
          "name": "stdout",
          "text": [
            "[5. 5. 5. 5. 5. 5. 5. 5. 5. 5.]\n"
          ]
        }
      ]
    },
    {
      "cell_type": "markdown",
      "source": [
        "# **5. Create an array of all the even integers from 20 to 35**"
      ],
      "metadata": {
        "id": "w750tGxP8tvA"
      }
    },
    {
      "cell_type": "code",
      "source": [
        "ar=np.arange(20,35,2)\n",
        "print(ar) "
      ],
      "metadata": {
        "colab": {
          "base_uri": "https://localhost:8080/"
        },
        "id": "yuL1oNoO8w6B",
        "outputId": "e0947612-86bb-47e6-a433-7be156c95f00"
      },
      "execution_count": 6,
      "outputs": [
        {
          "output_type": "stream",
          "name": "stdout",
          "text": [
            "[20 22 24 26 28 30 32 34]\n"
          ]
        }
      ]
    },
    {
      "cell_type": "markdown",
      "source": [
        "# **6. Create a 3x3 matrix with values ranging from 0 to 8**"
      ],
      "metadata": {
        "id": "k_BZlxug8-hL"
      }
    },
    {
      "cell_type": "code",
      "source": [
        "a=np.arange(0,9).reshape(3,3)\n",
        "print(a)"
      ],
      "metadata": {
        "colab": {
          "base_uri": "https://localhost:8080/"
        },
        "id": "s1BjX15-9Bnv",
        "outputId": "1d5ec821-8894-4b45-d7f4-bca78acbdb51"
      },
      "execution_count": 7,
      "outputs": [
        {
          "output_type": "stream",
          "name": "stdout",
          "text": [
            "[[0 1 2]\n",
            " [3 4 5]\n",
            " [6 7 8]]\n"
          ]
        }
      ]
    },
    {
      "cell_type": "markdown",
      "source": [
        "# **7. Concatenate a and b**"
      ],
      "metadata": {
        "id": "QOCPt9Qg9NN8"
      }
    },
    {
      "cell_type": "code",
      "source": [
        "arr1=np.array([1,2,3])\n",
        "arr2=np.array([4,5,6])\n",
        "arr=np.concatenate((arr1,arr2))\n",
        "print(arr) "
      ],
      "metadata": {
        "colab": {
          "base_uri": "https://localhost:8080/"
        },
        "id": "b_L820fV9WjM",
        "outputId": "b211a414-b7d3-455e-d8cd-2682906c9528"
      },
      "execution_count": 8,
      "outputs": [
        {
          "output_type": "stream",
          "name": "stdout",
          "text": [
            "[1 2 3 4 5 6]\n"
          ]
        }
      ]
    },
    {
      "cell_type": "markdown",
      "source": [
        "# **Pandas**"
      ],
      "metadata": {
        "id": "wuBVghEr9dlX"
      }
    },
    {
      "cell_type": "markdown",
      "source": [
        "# **8. Create a dataframe with 3 rows and 2 columns**"
      ],
      "metadata": {
        "id": "D-fciid09iJ7"
      }
    },
    {
      "cell_type": "code",
      "source": [
        "import pandas as pd\n",
        "data=[{'a':12,'b':45},{'a':54,'b':23},{'a':94,'b':76}]\n",
        "df=pd.DataFrame(data)\n",
        "print(df)"
      ],
      "metadata": {
        "colab": {
          "base_uri": "https://localhost:8080/"
        },
        "id": "Nz2qpKHu9o0N",
        "outputId": "8e927fe5-4f12-4fee-eba6-cc6096f7f5e6"
      },
      "execution_count": 9,
      "outputs": [
        {
          "output_type": "stream",
          "name": "stdout",
          "text": [
            "    a   b\n",
            "0  12  45\n",
            "1  54  23\n",
            "2  94  76\n"
          ]
        }
      ]
    },
    {
      "cell_type": "markdown",
      "source": [
        "## **9. Generate the series of dates from 1st Jan, 2023 to 10th Feb, 2023**"
      ],
      "metadata": {
        "id": "OVBxG6hE93Io"
      }
    },
    {
      "cell_type": "code",
      "source": [
        "a=pd.date_range(start='1/1/2023',end='10/2/2023')\n",
        "print(a)"
      ],
      "metadata": {
        "colab": {
          "base_uri": "https://localhost:8080/"
        },
        "id": "axJM6rWG9-9H",
        "outputId": "3f2e3dc2-f5fb-4997-9d16-eb95eac98677"
      },
      "execution_count": 10,
      "outputs": [
        {
          "output_type": "stream",
          "name": "stdout",
          "text": [
            "DatetimeIndex(['2023-01-01', '2023-01-02', '2023-01-03', '2023-01-04',\n",
            "               '2023-01-05', '2023-01-06', '2023-01-07', '2023-01-08',\n",
            "               '2023-01-09', '2023-01-10',\n",
            "               ...\n",
            "               '2023-09-23', '2023-09-24', '2023-09-25', '2023-09-26',\n",
            "               '2023-09-27', '2023-09-28', '2023-09-29', '2023-09-30',\n",
            "               '2023-10-01', '2023-10-02'],\n",
            "              dtype='datetime64[ns]', length=275, freq='D')\n"
          ]
        }
      ]
    },
    {
      "cell_type": "markdown",
      "source": [
        "## **10. Create 2D list to DataFrame**"
      ],
      "metadata": {
        "id": "WNR6EELf-B1U"
      }
    },
    {
      "cell_type": "code",
      "source": [
        "lst=[[1,'aaa',22],[2,'bbb,25'],[3,'ccc',24]]\n",
        "df=pd.DataFrame(lst)\n",
        "print(df)"
      ],
      "metadata": {
        "colab": {
          "base_uri": "https://localhost:8080/"
        },
        "id": "2QOLl6DF-HNm",
        "outputId": "211b7823-1cb2-4956-b8b3-21c06d0fcdce"
      },
      "execution_count": 11,
      "outputs": [
        {
          "output_type": "stream",
          "name": "stdout",
          "text": [
            "   0       1     2\n",
            "0  1     aaa  22.0\n",
            "1  2  bbb,25   NaN\n",
            "2  3     ccc  24.0\n"
          ]
        }
      ]
    }
  ]
}
